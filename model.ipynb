{
 "cells": [
  {
   "cell_type": "code",
   "execution_count": 49,
   "metadata": {},
   "outputs": [],
   "source": [
    "import pandas as pd\n",
    "import numpy as np\n",
    "import torch\n",
    "import torch.nn as nn\n",
    "from torch.utils.data import Dataset, DataLoader\n",
    "import seaborn as sns\n",
    "from PIL import Image\n",
    "from io import BytesIO"
   ]
  },
  {
   "cell_type": "code",
   "execution_count": 67,
   "metadata": {},
   "outputs": [],
   "source": [
    "torch.set_default_device(\"cuda\")"
   ]
  },
  {
   "cell_type": "code",
   "execution_count": 68,
   "metadata": {},
   "outputs": [],
   "source": [
    "class MnistDataset(Dataset):\n",
    "    def __init__(self, file_path):\n",
    "        df = pd.read_parquet(file_path)\n",
    "        self.length = len(df)\n",
    "\n",
    "        self.images = torch.zeros(\n",
    "            (self.length, 28 * 28), dtype=torch.float32, device=\"cuda\"\n",
    "        )\n",
    "        self.labels = torch.zeros(self.length, dtype=torch.long, device=\"cuda\")\n",
    "\n",
    "        for i, entry in df.iterrows():\n",
    "            with Image.open(BytesIO(entry[\"image.bytes\"])) as img:\n",
    "                img_gray = img.convert(\"L\")\n",
    "                self.images[i, :] = torch.tensor(\n",
    "                    np.array(img_gray).flatten() / 255.0, dtype=torch.float32\n",
    "                )\n",
    "\n",
    "            self.labels[i] = entry[\"label\"]\n",
    "\n",
    "    def __len__(self):\n",
    "        return self.length\n",
    "\n",
    "    def __getitem__(self, index):\n",
    "        return self.images[index], self.labels[index]\n",
    "\n",
    "\n",
    "train_set = MnistDataset(\"train.parquet\")\n",
    "test_set = MnistDataset(\"test.parquet\")\n",
    "\n",
    "\n",
    "BATCH_SIZE = 32\n",
    "train_dataloader = DataLoader(\n",
    "    dataset=train_set,\n",
    "    batch_size=BATCH_SIZE,\n",
    "    shuffle=True,\n",
    "    generator=torch.Generator(device=\"cuda\"),\n",
    ")\n",
    "test_dataloader = DataLoader(dataset=test_set, batch_size=BATCH_SIZE)"
   ]
  },
  {
   "cell_type": "code",
   "execution_count": 69,
   "metadata": {},
   "outputs": [],
   "source": [
    "class MultiLayerNN(nn.Module):\n",
    "    def __init__(self, input_size, hidden_layer_count, hidden_size, output_size):\n",
    "        super(MultiLayerNN, self).__init__()\n",
    "\n",
    "        self.layers = nn.ModuleList()\n",
    "\n",
    "        self.layers.append(\n",
    "            nn.Linear(\n",
    "                input_size, hidden_size if hidden_layer_count > 0 else output_size\n",
    "            )\n",
    "        )\n",
    "\n",
    "        in_dim = hidden_size\n",
    "        for i in range(hidden_layer_count):\n",
    "            out_dim = hidden_size if i != hidden_layer_count - 1 else output_size\n",
    "            self.layers.append(nn.Linear(in_dim, out_dim))\n",
    "            in_dim = out_dim\n",
    "\n",
    "    def forward(self, x):\n",
    "        for i, layer in enumerate(self.layers):\n",
    "            x = layer(x)\n",
    "            if i < len(self.layers) - 1:\n",
    "                x = nn.functional.relu(x)\n",
    "        return x"
   ]
  },
  {
   "cell_type": "code",
   "execution_count": 70,
   "metadata": {},
   "outputs": [
    {
     "data": {
      "text/plain": [
       "MultiLayerNN(\n",
       "  (layers): ModuleList(\n",
       "    (0): Linear(in_features=784, out_features=30, bias=True)\n",
       "    (1): Linear(in_features=30, out_features=10, bias=True)\n",
       "  )\n",
       ")"
      ]
     },
     "execution_count": 70,
     "metadata": {},
     "output_type": "execute_result"
    }
   ],
   "source": [
    "INPUT_DIMENSION = 28 * 28\n",
    "OUTPUT_DIMENSION = 10\n",
    "\n",
    "HIDDEN_LAYER_COUNT = 2\n",
    "HIDDEN_LAYER_SIZE = 30\n",
    "\n",
    "model = MultiLayerNN(\n",
    "    INPUT_DIMENSION, HIDDEN_LAYER_COUNT, HIDDEN_LAYER_SIZE, OUTPUT_DIMENSION\n",
    ").to(\"cuda\")\n",
    "model.train()"
   ]
  },
  {
   "cell_type": "code",
   "execution_count": 71,
   "metadata": {},
   "outputs": [],
   "source": [
    "loss_fun = nn.CrossEntropyLoss()"
   ]
  },
  {
   "cell_type": "code",
   "execution_count": 72,
   "metadata": {},
   "outputs": [],
   "source": [
    "LEARNING_RATE = 0.01\n",
    "\n",
    "optimizer = torch.optim.SGD(model.parameters(), lr=LEARNING_RATE)"
   ]
  },
  {
   "cell_type": "code",
   "execution_count": 73,
   "metadata": {},
   "outputs": [],
   "source": [
    "NUM_EPOCHS = 10\n",
    "\n",
    "avg_losses = torch.zeros(NUM_EPOCHS)\n",
    "\n",
    "for epoch in range(NUM_EPOCHS):\n",
    "    epoch_loss = 0.0\n",
    "\n",
    "    for i, data in enumerate(train_dataloader):\n",
    "        inputs, labels = data\n",
    "        inputs, labels = inputs.to(\"cuda\"), labels.to(\"cuda\")\n",
    "\n",
    "        optimizer.zero_grad()\n",
    "        pred = model(inputs)\n",
    "\n",
    "        # compute loss\n",
    "        loss = loss_fun(pred, labels)\n",
    "\n",
    "        # backprop\n",
    "        loss.backward()\n",
    "\n",
    "        # update weights\n",
    "        optimizer.step()\n",
    "\n",
    "        epoch_loss += loss.item()\n",
    "\n",
    "    avg_losses[epoch] = epoch_loss / len(train_dataloader)"
   ]
  },
  {
   "cell_type": "code",
   "execution_count": 74,
   "metadata": {},
   "outputs": [
    {
     "data": {
      "text/plain": [
       "Text(0.5, 1.0, 'Average Loss over Epochs')"
      ]
     },
     "execution_count": 74,
     "metadata": {},
     "output_type": "execute_result"
    },
    {
     "data": {
      "image/png": "[encoded data removed]",
      "text/plain": [
       "<Figure size 640x480 with 1 Axes>"
      ]
     },
     "metadata": {},
     "output_type": "display_data"
    }
   ],
   "source": [
    "# Plot loss over time with title and axis labels\n",
    "sns.lineplot(x=range(len(avg_losses)), y=avg_losses.cpu()).set_title(\n",
    "    \"Average Loss over Epochs\"\n",
    ")"
   ]
  },
  {
   "cell_type": "code",
   "execution_count": 75,
   "metadata": {},
   "outputs": [
    {
     "name": "stdout",
     "output_type": "stream",
     "text": [
      "Accuracy: 93.73%\n"
     ]
    }
   ],
   "source": [
    "model.eval()\n",
    "\n",
    "correct = 0\n",
    "total = 0\n",
    "\n",
    "with torch.no_grad():\n",
    "    for data in test_dataloader:\n",
    "        inputs, labels = data\n",
    "        inputs, labels = inputs.to(\"cuda\"), labels.to(\"cuda\")\n",
    "\n",
    "        outputs = model(inputs)\n",
    "        _, predicted = torch.max(outputs, 1)\n",
    "        total += labels.size(0)\n",
    "        correct += (predicted == labels).sum().item()\n",
    "\n",
    "accuracy = 100 * correct / total\n",
    "print(f\"Accuracy: {accuracy}%\")"
   ]
  }
 ],
 "metadata": {
  "kernelspec": {
   "display_name": "segmentation",
   "language": "python",
   "name": "python3"
  },
  "language_info": {
   "codemirror_mode": {
    "name": "ipython",
    "version": 3
   },
   "file_extension": ".py",
   "mimetype": "text/x-python",
   "name": "python",
   "nbconvert_exporter": "python",
   "pygments_lexer": "ipython3",
   "version": "3.10.12"
  },
  "orig_nbformat": 4
 },
 "nbformat": 4,
 "nbformat_minor": 2
}
