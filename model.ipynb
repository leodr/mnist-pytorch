{
 "cells": [
  {
   "cell_type": "code",
   "execution_count": 14,
   "metadata": {},
   "outputs": [],
   "source": [
    "from io import BytesIO\n",
    "\n",
    "import numpy as np\n",
    "from pandas import read_parquet\n",
    "import seaborn as sns\n",
    "import torch\n",
    "import torch.nn as nn\n",
    "from PIL import Image\n",
    "from torch.utils.data import DataLoader, Dataset\n",
    "from torchvision import transforms"
   ]
  },
  {
   "cell_type": "code",
   "execution_count": 15,
   "metadata": {},
   "outputs": [],
   "source": [
    "BATCH_SIZE = 32\n",
    "\n",
    "# Network configuration\n",
    "HIDDEN_LAYER_COUNT = 2\n",
    "HIDDEN_LAYER_SIZE = 30\n",
    "\n",
    "# Training configuration\n",
    "LEARNING_RATE = 0.01\n",
    "NUM_EPOCHS = 500"
   ]
  },
  {
   "cell_type": "code",
   "execution_count": 16,
   "metadata": {},
   "outputs": [],
   "source": [
    "if torch.cuda.is_available():\n",
    "    torch.set_default_device(\"cuda\")"
   ]
  },
  {
   "cell_type": "code",
   "execution_count": 34,
   "metadata": {},
   "outputs": [
    {
     "ename": "AttributeError",
     "evalue": "'Tensor' object has no attribute 'show'",
     "output_type": "error",
     "traceback": [
      "\u001b[1;31m---------------------------------------------------------------------------\u001b[0m",
      "\u001b[1;31mAttributeError\u001b[0m                            Traceback (most recent call last)",
      "Cell \u001b[1;32mIn[34], line 40\u001b[0m\n\u001b[0;32m     36\u001b[0m     \u001b[39mdef\u001b[39;00m \u001b[39m__getitem__\u001b[39m(\u001b[39mself\u001b[39m, index):\n\u001b[0;32m     37\u001b[0m         \u001b[39mreturn\u001b[39;00m \u001b[39mself\u001b[39m\u001b[39m.\u001b[39mimages[index], \u001b[39mself\u001b[39m\u001b[39m.\u001b[39mlabels[index]\n\u001b[1;32m---> 40\u001b[0m train_set \u001b[39m=\u001b[39m MnistDataset(\u001b[39m\"\u001b[39;49m\u001b[39mtrain.parquet\u001b[39;49m\u001b[39m\"\u001b[39;49m)\n\u001b[0;32m     41\u001b[0m test_set \u001b[39m=\u001b[39m MnistDataset(\u001b[39m\"\u001b[39m\u001b[39mtest.parquet\u001b[39m\u001b[39m\"\u001b[39m)\n\u001b[0;32m     44\u001b[0m \u001b[39mdef\u001b[39;00m \u001b[39mcollate_fn\u001b[39m(batch):\n",
      "Cell \u001b[1;32mIn[34], line 28\u001b[0m, in \u001b[0;36mMnistDataset.__init__\u001b[1;34m(self, file_path)\u001b[0m\n\u001b[0;32m     26\u001b[0m \u001b[39mwith\u001b[39;00m Image\u001b[39m.\u001b[39mopen(BytesIO(entry[\u001b[39m\"\u001b[39m\u001b[39mimage.bytes\u001b[39m\u001b[39m\"\u001b[39m])) \u001b[39mas\u001b[39;00m img:\n\u001b[0;32m     27\u001b[0m     \u001b[39mif\u001b[39;00m i \u001b[39m==\u001b[39m \u001b[39m0\u001b[39m:\n\u001b[1;32m---> 28\u001b[0m         transform(img)\u001b[39m.\u001b[39;49mshow()\n\u001b[0;32m     29\u001b[0m     \u001b[39mself\u001b[39m\u001b[39m.\u001b[39mimages[i, :] \u001b[39m=\u001b[39m transform(img)\u001b[39m.\u001b[39mview(\u001b[39m-\u001b[39m\u001b[39m1\u001b[39m)\n\u001b[0;32m     31\u001b[0m \u001b[39mself\u001b[39m\u001b[39m.\u001b[39mlabels[i] \u001b[39m=\u001b[39m entry[\u001b[39m\"\u001b[39m\u001b[39mlabel\u001b[39m\u001b[39m\"\u001b[39m]\n",
      "\u001b[1;31mAttributeError\u001b[0m: 'Tensor' object has no attribute 'show'"
     ]
    }
   ],
   "source": [
    "transform = transforms.Compose(\n",
    "    [\n",
    "        transforms.Grayscale(),\n",
    "        transforms.ToTensor(),\n",
    "        transforms.Normalize((0.1307,), (0.3081,)),\n",
    "    ]\n",
    ")\n",
    "\n",
    "\n",
    "class MnistDataset(Dataset):\n",
    "    \"\"\"\n",
    "    Custom Dataset class for loading MNIST data from a parquet file.\n",
    "    \"\"\"\n",
    "\n",
    "    def __init__(self, file_path):\n",
    "        # Load everything into memory because the datasets are small (15 MB and 2 MB)\n",
    "        df = read_parquet(file_path)\n",
    "        self.length = len(df)\n",
    "\n",
    "        self.images = torch.zeros(\n",
    "            (self.length, 28 * 28), dtype=torch.float32, device=\"cuda\"\n",
    "        )\n",
    "        self.labels = torch.zeros(self.length, dtype=torch.long, device=\"cuda\")\n",
    "\n",
    "        for i, entry in df.iterrows():\n",
    "            with Image.open(BytesIO(entry[\"image.bytes\"])) as img:\n",
    "                self.images[i, :] = transform(img).view(-1)\n",
    "\n",
    "            self.labels[i] = entry[\"label\"]\n",
    "\n",
    "    def __len__(self):\n",
    "        return self.length\n",
    "\n",
    "    def __getitem__(self, index):\n",
    "        return self.images[index], self.labels[index]\n",
    "\n",
    "\n",
    "train_set = MnistDataset(\"train.parquet\")\n",
    "test_set = MnistDataset(\"test.parquet\")\n",
    "\n",
    "\n",
    "def collate_fn(batch):\n",
    "    images, labels = zip(*batch)\n",
    "    return torch.stack(images).to(\"cuda\"), torch.stack(labels).to(\"cuda\")\n",
    "\n",
    "\n",
    "train_dataloader = DataLoader(\n",
    "    dataset=train_set,\n",
    "    batch_size=BATCH_SIZE,\n",
    "    shuffle=True,\n",
    "    generator=torch.Generator(device=\"cuda\"),\n",
    "    collate_fn=collate_fn,\n",
    ")\n",
    "test_dataloader = DataLoader(\n",
    "    dataset=test_set, batch_size=BATCH_SIZE, collate_fn=collate_fn\n",
    ")"
   ]
  },
  {
   "cell_type": "code",
   "execution_count": 18,
   "metadata": {},
   "outputs": [],
   "source": [
    "class DynamicMLP(nn.Module):\n",
    "    def __init__(self, input_size, output_size, hidden_layers, activation_fn=nn.ReLU):\n",
    "        super(DynamicMLP, self).__init__()\n",
    "\n",
    "        layers = []\n",
    "\n",
    "        # Input Layer\n",
    "        layers.append(nn.Linear(input_size, hidden_layers[0]))\n",
    "        layers.append(activation_fn())\n",
    "\n",
    "        # Hidden Layers\n",
    "        for i in range(len(hidden_layers) - 1):\n",
    "            layers.append(nn.Linear(hidden_layers[i], hidden_layers[i + 1]))\n",
    "            layers.append(activation_fn())\n",
    "\n",
    "        # Output Layer\n",
    "        layers.append(nn.Linear(hidden_layers[-1], output_size))\n",
    "\n",
    "        self.model = nn.Sequential(*layers)\n",
    "\n",
    "    def forward(self, x):\n",
    "        return self.model(x)"
   ]
  },
  {
   "cell_type": "code",
   "execution_count": 19,
   "metadata": {},
   "outputs": [
    {
     "data": {
      "text/plain": [
       "DynamicMLP(\n",
       "  (model): Sequential(\n",
       "    (0): Linear(in_features=784, out_features=30, bias=True)\n",
       "    (1): ReLU()\n",
       "    (2): Linear(in_features=30, out_features=30, bias=True)\n",
       "    (3): ReLU()\n",
       "    (4): Linear(in_features=30, out_features=10, bias=True)\n",
       "  )\n",
       ")"
      ]
     },
     "execution_count": 19,
     "metadata": {},
     "output_type": "execute_result"
    }
   ],
   "source": [
    "INPUT_DIMENSION = 28 * 28\n",
    "OUTPUT_DIMENSION = 10\n",
    "\n",
    "model = DynamicMLP(\n",
    "    INPUT_DIMENSION,\n",
    "    OUTPUT_DIMENSION,\n",
    "    [HIDDEN_LAYER_SIZE for _ in range(HIDDEN_LAYER_COUNT)],\n",
    ").to(\"cuda\")\n",
    "model.train()"
   ]
  },
  {
   "cell_type": "code",
   "execution_count": 20,
   "metadata": {},
   "outputs": [],
   "source": [
    "loss_fun = nn.CrossEntropyLoss()"
   ]
  },
  {
   "cell_type": "code",
   "execution_count": 21,
   "metadata": {},
   "outputs": [],
   "source": [
    "optimizer = torch.optim.SGD(model.parameters(), lr=LEARNING_RATE)"
   ]
  },
  {
   "cell_type": "code",
   "execution_count": 22,
   "metadata": {},
   "outputs": [],
   "source": [
    "avg_losses = torch.zeros(NUM_EPOCHS)\n",
    "\n",
    "# Training loop\n",
    "for epoch in range(NUM_EPOCHS):\n",
    "    epoch_loss = 0.0\n",
    "\n",
    "    for i, data in enumerate(train_dataloader):\n",
    "        inputs, labels = data\n",
    "\n",
    "        optimizer.zero_grad()\n",
    "        pred = model(inputs)\n",
    "\n",
    "        # compute loss\n",
    "        loss = loss_fun(pred, labels)\n",
    "\n",
    "        # backprop\n",
    "        loss.backward()\n",
    "\n",
    "        # update weights\n",
    "        optimizer.step()\n",
    "\n",
    "        epoch_loss += loss.item()\n",
    "\n",
    "    avg_losses[epoch] = epoch_loss / len(train_dataloader)"
   ]
  },
  {
   "cell_type": "code",
   "execution_count": 23,
   "metadata": {},
   "outputs": [
    {
     "data": {
      "text/plain": [
       "Text(0.5, 1.0, 'Average Loss over Epochs')"
      ]
     },
     "execution_count": 23,
     "metadata": {},
     "output_type": "execute_result"
    },
    {
     "data": {
      "image/png": "[encoded data removed]",
      "text/plain": [
       "<Figure size 640x480 with 1 Axes>"
      ]
     },
     "metadata": {},
     "output_type": "display_data"
    }
   ],
   "source": [
    "# Plot loss over time with title and axis labels\n",
    "sns.lineplot(x=range(len(avg_losses)), y=avg_losses.cpu()).set_title(\n",
    "    \"Average Loss over Epochs\"\n",
    ")"
   ]
  },
  {
   "cell_type": "code",
   "execution_count": 24,
   "metadata": {},
   "outputs": [
    {
     "name": "stdout",
     "output_type": "stream",
     "text": [
      "Accuracy: 96.81%\n"
     ]
    }
   ],
   "source": [
    "# Model accuracy evaluation\n",
    "model.eval()\n",
    "\n",
    "correct = 0\n",
    "total = 0\n",
    "\n",
    "with torch.no_grad():\n",
    "    for data in test_dataloader:\n",
    "        inputs, labels = data\n",
    "        inputs, labels = inputs.to(\"cuda\"), labels.to(\"cuda\")\n",
    "\n",
    "        outputs = model(inputs)\n",
    "        _, predicted = torch.max(outputs, 1)\n",
    "        total += labels.size(0)\n",
    "        correct += (predicted == labels).sum().item()\n",
    "\n",
    "accuracy = 100 * correct / total\n",
    "print(f\"Accuracy: {accuracy}%\")"
   ]
  },
  {
   "cell_type": "code",
   "execution_count": 31,
   "metadata": {},
   "outputs": [
    {
     "name": "stdout",
     "output_type": "stream",
     "text": [
      "[0 1 2 3 4 5 6 7 8 9]\n"
     ]
    }
   ],
   "source": [
    "# Load the images from the handmade-test folder, starting with 0.png and ending with 9.png\n",
    "handmade_test_images = torch.zeros((10, 28 * 28), dtype=torch.float32, device=\"cuda\")\n",
    "for i in range(10):\n",
    "    with Image.open(f\"handmade-test/{i}.png\") as img:\n",
    "        handmade_test_images[i, :] = transform(img).view(-1)\n",
    "\n",
    "# Predict the labels for the handmade test images\n",
    "handmade_test_predictions = model(handmade_test_images)\n",
    "_, predicted = torch.max(handmade_test_predictions, 1)\n",
    "\n",
    "# Print the predictions\n",
    "print(predicted.cpu().numpy())"
   ]
  }
 ],
 "metadata": {
  "kernelspec": {
   "display_name": "segmentation",
   "language": "python",
   "name": "python3"
  },
  "language_info": {
   "codemirror_mode": {
    "name": "ipython",
    "version": 3
   },
   "file_extension": ".py",
   "mimetype": "text/x-python",
   "name": "python",
   "nbconvert_exporter": "python",
   "pygments_lexer": "ipython3",
   "version": "3.10.12"
  },
  "orig_nbformat": 4
 },
 "nbformat": 4,
 "nbformat_minor": 2
}
