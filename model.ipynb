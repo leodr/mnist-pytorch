{
 "cells": [
  {
   "cell_type": "code",
   "execution_count": 13,
   "metadata": {},
   "outputs": [],
   "source": [
    "from io import BytesIO\n",
    "\n",
    "import numpy as np\n",
    "from pandas import read_parquet\n",
    "import seaborn as sns\n",
    "import torch\n",
    "import torch.nn as nn\n",
    "from PIL import Image\n",
    "from torch.utils.data import DataLoader, Dataset\n",
    "from torchvision import transforms"
   ]
  },
  {
   "cell_type": "code",
   "execution_count": 14,
   "metadata": {},
   "outputs": [],
   "source": [
    "BATCH_SIZE = 32\n",
    "\n",
    "# Network configuration\n",
    "HIDDEN_LAYER_COUNT = 2\n",
    "HIDDEN_LAYER_SIZE = 60\n",
    "\n",
    "# Training configuration\n",
    "LEARNING_RATE = 0.01\n",
    "NUM_EPOCHS = 100"
   ]
  },
  {
   "cell_type": "code",
   "execution_count": 15,
   "metadata": {},
   "outputs": [],
   "source": [
    "if torch.cuda.is_available():\n",
    "    torch.set_default_device(\"cuda\")"
   ]
  },
  {
   "cell_type": "code",
   "execution_count": 16,
   "metadata": {},
   "outputs": [],
   "source": [
    "transform = transforms.Compose(\n",
    "    [\n",
    "        transforms.Grayscale(),\n",
    "        transforms.ToTensor(),\n",
    "        transforms.Normalize((0.1307,), (0.3081,)),\n",
    "    ]\n",
    ")\n",
    "\n",
    "\n",
    "class MnistDataset(Dataset):\n",
    "    \"\"\"\n",
    "    Custom Dataset class for loading MNIST data from a parquet file.\n",
    "    \"\"\"\n",
    "\n",
    "    def __init__(self, file_path):\n",
    "        # Load everything into memory because the datasets are small (15 MB and 2 MB)\n",
    "        df = read_parquet(file_path)\n",
    "        self.length = len(df)\n",
    "\n",
    "        self.images = torch.zeros(\n",
    "            (self.length, 28 * 28), dtype=torch.float32, device=\"cuda\"\n",
    "        )\n",
    "        self.labels = torch.zeros(self.length, dtype=torch.long, device=\"cuda\")\n",
    "\n",
    "        for i, entry in df.iterrows():\n",
    "            with Image.open(BytesIO(entry[\"image.bytes\"])) as img:\n",
    "                self.images[i, :] = transform(img).view(-1)\n",
    "\n",
    "            self.labels[i] = entry[\"label\"]\n",
    "\n",
    "    def __len__(self):\n",
    "        return self.length\n",
    "\n",
    "    def __getitem__(self, index):\n",
    "        return self.images[index], self.labels[index]\n",
    "\n",
    "\n",
    "train_set = MnistDataset(\"train.parquet\")\n",
    "test_set = MnistDataset(\"test.parquet\")\n",
    "\n",
    "\n",
    "def collate_fn(batch):\n",
    "    images, labels = zip(*batch)\n",
    "    return torch.stack(images).to(\"cuda\"), torch.stack(labels).to(\"cuda\")\n",
    "\n",
    "\n",
    "train_dataloader = DataLoader(\n",
    "    dataset=train_set,\n",
    "    batch_size=BATCH_SIZE,\n",
    "    shuffle=True,\n",
    "    generator=torch.Generator(device=\"cuda\"),\n",
    "    collate_fn=collate_fn,\n",
    ")\n",
    "test_dataloader = DataLoader(\n",
    "    dataset=test_set, batch_size=BATCH_SIZE, collate_fn=collate_fn\n",
    ")"
   ]
  },
  {
   "cell_type": "code",
   "execution_count": 17,
   "metadata": {},
   "outputs": [],
   "source": [
    "class DynamicMLP(nn.Module):\n",
    "    def __init__(self, input_size, output_size, hidden_layers, activation_fn=nn.ReLU):\n",
    "        super(DynamicMLP, self).__init__()\n",
    "\n",
    "        layers = []\n",
    "\n",
    "        # Input Layer\n",
    "        layers.append(nn.Linear(input_size, hidden_layers[0]))\n",
    "        layers.append(activation_fn())\n",
    "\n",
    "        # Hidden Layers\n",
    "        for i in range(len(hidden_layers) - 1):\n",
    "            layers.append(nn.Linear(hidden_layers[i], hidden_layers[i + 1]))\n",
    "            layers.append(activation_fn())\n",
    "\n",
    "        # Output Layer\n",
    "        layers.append(nn.Linear(hidden_layers[-1], output_size))\n",
    "\n",
    "        self.model = nn.Sequential(*layers)\n",
    "\n",
    "    def forward(self, x):\n",
    "        return self.model(x)"
   ]
  },
  {
   "cell_type": "code",
   "execution_count": 18,
   "metadata": {},
   "outputs": [
    {
     "data": {
      "text/plain": [
       "DynamicMLP(\n",
       "  (model): Sequential(\n",
       "    (0): Linear(in_features=784, out_features=60, bias=True)\n",
       "    (1): ReLU()\n",
       "    (2): Linear(in_features=60, out_features=60, bias=True)\n",
       "    (3): ReLU()\n",
       "    (4): Linear(in_features=60, out_features=60, bias=True)\n",
       "    (5): ReLU()\n",
       "    (6): Linear(in_features=60, out_features=10, bias=True)\n",
       "  )\n",
       ")"
      ]
     },
     "execution_count": 18,
     "metadata": {},
     "output_type": "execute_result"
    }
   ],
   "source": [
    "INPUT_DIMENSION = 28 * 28\n",
    "OUTPUT_DIMENSION = 10\n",
    "\n",
    "model = DynamicMLP(\n",
    "    INPUT_DIMENSION,\n",
    "    OUTPUT_DIMENSION,\n",
    "    [HIDDEN_LAYER_SIZE for _ in range(HIDDEN_LAYER_COUNT)],\n",
    ").to(\"cuda\")\n",
    "model.train()"
   ]
  },
  {
   "cell_type": "code",
   "execution_count": 19,
   "metadata": {},
   "outputs": [],
   "source": [
    "loss_fun = nn.CrossEntropyLoss()"
   ]
  },
  {
   "cell_type": "code",
   "execution_count": 20,
   "metadata": {},
   "outputs": [],
   "source": [
    "optimizer = torch.optim.SGD(model.parameters(), lr=LEARNING_RATE)"
   ]
  },
  {
   "cell_type": "code",
   "execution_count": 21,
   "metadata": {},
   "outputs": [],
   "source": [
    "avg_losses = torch.zeros(NUM_EPOCHS)\n",
    "\n",
    "# Training loop\n",
    "for epoch in range(NUM_EPOCHS):\n",
    "    epoch_loss = 0.0\n",
    "\n",
    "    for i, data in enumerate(train_dataloader):\n",
    "        inputs, labels = data\n",
    "\n",
    "        optimizer.zero_grad()\n",
    "        pred = model(inputs)\n",
    "\n",
    "        # compute loss\n",
    "        loss = loss_fun(pred, labels)\n",
    "\n",
    "        # backprop\n",
    "        loss.backward()\n",
    "\n",
    "        # update weights\n",
    "        optimizer.step()\n",
    "\n",
    "        epoch_loss += loss.item()\n",
    "\n",
    "    avg_losses[epoch] = epoch_loss / len(train_dataloader)"
   ]
  },
  {
   "cell_type": "code",
   "execution_count": 22,
   "metadata": {},
   "outputs": [
    {
     "data": {
      "text/plain": [
       "Text(0.5, 1.0, 'Average Loss over Epochs')"
      ]
     },
     "execution_count": 22,
     "metadata": {},
     "output_type": "execute_result"
    },
    {
     "data": {
      "image/png": "[encoded data removed]",
      "text/plain": [
       "<Figure size 640x480 with 1 Axes>"
      ]
     },
     "metadata": {},
     "output_type": "display_data"
    }
   ],
   "source": [
    "# Plot loss over time with title and axis labels\n",
    "sns.lineplot(x=range(len(avg_losses)), y=avg_losses.cpu()).set_title(\n",
    "    \"Average Loss over Epochs\"\n",
    ")"
   ]
  },
  {
   "cell_type": "code",
   "execution_count": 29,
   "metadata": {},
   "outputs": [
    {
     "name": "stdout",
     "output_type": "stream",
     "text": [
      "Accuracy: 0.9757, Precision: 0.9755900875241308, Recall: 0.9754696513334526, F1-Score: 0.9754898780218623\n"
     ]
    }
   ],
   "source": [
    "# Model accuracy evaluation\n",
    "from sklearn.metrics import accuracy_score, precision_score, recall_score, f1_score\n",
    "\n",
    "# Initialize variables to store metrics\n",
    "all_labels = []\n",
    "all_predictions = []\n",
    "\n",
    "# Evaluation loop\n",
    "model.eval()\n",
    "with torch.no_grad():\n",
    "    for inputs, labels in test_dataloader:\n",
    "        inputs, labels = inputs.to(\"cuda\"), labels.to(\"cuda\")\n",
    "        outputs = model(inputs)\n",
    "        _, predicted = torch.max(outputs, 1)\n",
    "\n",
    "        all_labels.extend(labels.cpu().numpy())\n",
    "        all_predictions.extend(predicted.cpu().numpy())\n",
    "\n",
    "# Calculate metrics\n",
    "accuracy = accuracy_score(all_labels, all_predictions)\n",
    "precision = precision_score(all_labels, all_predictions, average=\"macro\")\n",
    "recall = recall_score(all_labels, all_predictions, average=\"macro\")\n",
    "f1 = f1_score(all_labels, all_predictions, average=\"macro\")\n",
    "\n",
    "print(f\"Accuracy: {accuracy}, Precision: {precision}, Recall: {recall}, F1-Score: {f1}\")"
   ]
  },
  {
   "cell_type": "code",
   "execution_count": 26,
   "metadata": {},
   "outputs": [
    {
     "name": "stdout",
     "output_type": "stream",
     "text": [
      "[0 1 2 3 4 5 5 7 8 9]\n"
     ]
    }
   ],
   "source": [
    "# Load the images from the handmade-test folder, starting with 0.png and ending with 9.png\n",
    "handmade_test_images = torch.zeros((10, 28 * 28), dtype=torch.float32, device=\"cuda\")\n",
    "for i in range(10):\n",
    "    with Image.open(f\"handmade-test/{i}.png\") as img:\n",
    "        handmade_test_images[i, :] = transform(img).view(-1)\n",
    "\n",
    "# Predict the labels for the handmade test images\n",
    "handmade_test_predictions = model(handmade_test_images)\n",
    "_, predicted = torch.max(handmade_test_predictions, 1)\n",
    "\n",
    "# Print the predictions\n",
    "print(predicted.cpu().numpy())"
   ]
  }
 ],
 "metadata": {
  "kernelspec": {
   "display_name": "segmentation",
   "language": "python",
   "name": "python3"
  },
  "language_info": {
   "codemirror_mode": {
    "name": "ipython",
    "version": 3
   },
   "file_extension": ".py",
   "mimetype": "text/x-python",
   "name": "python",
   "nbconvert_exporter": "python",
   "pygments_lexer": "ipython3",
   "version": "3.10.12"
  },
  "orig_nbformat": 4
 },
 "nbformat": 4,
 "nbformat_minor": 2
}
