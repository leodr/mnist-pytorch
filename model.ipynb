{
 "cells": [
  {
   "cell_type": "code",
   "execution_count": null,
   "metadata": {},
   "outputs": [],
   "source": [
    "%pip install pyarrow"
   ]
  },
  {
   "cell_type": "code",
   "execution_count": null,
   "metadata": {},
   "outputs": [],
   "source": [
    "import numpy as np\n",
    "import pandas as pd\n",
    "import torch\n",
    "import torch.nn as nn\n",
    "from torch.utils.data import Dataset, DataLoader\n",
    "import seaborn as sns\n",
    "from PIL import Image\n",
    "from io import BytesIO"
   ]
  },
  {
   "cell_type": "code",
   "execution_count": null,
   "metadata": {},
   "outputs": [],
   "source": [
    "class MnistDataset(Dataset):\n",
    "    def __init__(self, file_path):\n",
    "        self.data = pd.read_parquet(file_path).to_numpy()\n",
    "\n",
    "    def __len__(self):\n",
    "        return len(self.data)\n",
    "\n",
    "    def __getitem__(self, index):\n",
    "        entry = self.data[index]\n",
    "\n",
    "        with Image.open(BytesIO(entry[0][\"bytes\"])) as img:\n",
    "            img_gray = img.convert(\"L\")\n",
    "            pixel_array = np.array(img_gray)\n",
    "            flattened_array = pixel_array.flatten()\n",
    "            normalized_array = flattened_array / 255.0\n",
    "            float32_array = normalized_array.astype(\"float32\")\n",
    "\n",
    "        label = torch.zeros(10)\n",
    "        label[entry[1]] = 1\n",
    "\n",
    "        return float32_array, label\n",
    "\n",
    "\n",
    "BATCH_SIZE = 32\n",
    "dataloader = DataLoader(dataset=MnistDataset(\"train.parquet\"), batch_size=32)"
   ]
  },
  {
   "cell_type": "code",
   "execution_count": null,
   "metadata": {},
   "outputs": [],
   "source": [
    "class MultiLayerNN(nn.Module):\n",
    "    def __init__(self, input_size, hidden_layer_count, hidden_size, output_size):\n",
    "        super(MultiLayerNN, self).__init__()\n",
    "\n",
    "        if hidden_layer_count == 0:\n",
    "            self.input_layer = nn.Linear(input_size, output_size)\n",
    "            self.layers = []\n",
    "        else:\n",
    "            self.input_layer = nn.Linear(input_size, hidden_size)\n",
    "            self.layers = []\n",
    "            for i in range(hidden_layer_count):\n",
    "                self.layers.append(\n",
    "                    nn.Linear(\n",
    "                        hidden_size,\n",
    "                        output_size if i == hidden_layer_count - 1 else hidden_size,\n",
    "                    )\n",
    "                )\n",
    "\n",
    "    def forward(self, x):\n",
    "        interm = self.input_layer(x)\n",
    "\n",
    "        for i, layer in enumerate(self.layers):\n",
    "            new_pass = layer(interm)\n",
    "\n",
    "            if i < len(self.layers) - 1:\n",
    "                interm = nn.functional.relu(new_pass)\n",
    "            else:\n",
    "                interm = new_pass\n",
    "\n",
    "        return interm"
   ]
  },
  {
   "cell_type": "code",
   "execution_count": null,
   "metadata": {},
   "outputs": [],
   "source": [
    "INPUT_DIMENSION = 28 * 28\n",
    "OUTPUT_DIMENSION = 10\n",
    "\n",
    "HIDDEN_LAYER_COUNT = 2\n",
    "HIDDEN_LAYER_SIZE = 30\n",
    "\n",
    "model = MultiLayerNN(\n",
    "    INPUT_DIMENSION, HIDDEN_LAYER_COUNT, HIDDEN_LAYER_SIZE, OUTPUT_DIMENSION\n",
    ")\n",
    "model.train()"
   ]
  },
  {
   "cell_type": "code",
   "execution_count": null,
   "metadata": {},
   "outputs": [],
   "source": [
    "loss_fun = nn.MSELoss()"
   ]
  },
  {
   "cell_type": "code",
   "execution_count": null,
   "metadata": {},
   "outputs": [],
   "source": [
    "LEARNING_RATE = 0.2\n",
    "\n",
    "optimizer = torch.optim.SGD(model.parameters(), lr=LEARNING_RATE)"
   ]
  },
  {
   "cell_type": "code",
   "execution_count": null,
   "metadata": {},
   "outputs": [],
   "source": [
    "NUM_EPOCHS = 20\n",
    "\n",
    "losses = []\n",
    "\n",
    "for epoch in range(NUM_EPOCHS):\n",
    "    for i, data in enumerate(dataloader):\n",
    "        optimizer.zero_grad()\n",
    "\n",
    "        pred = model(data[0])\n",
    "\n",
    "        # compute loss\n",
    "        loss = loss_fun(pred, data[1])\n",
    "        # losses.append(loss.item())\n",
    "\n",
    "        # backprop\n",
    "        loss.backward()\n",
    "\n",
    "        # update weights\n",
    "        optimizer.step()\n",
    "\n",
    "    losses.append(float(loss.data))"
   ]
  },
  {
   "cell_type": "code",
   "execution_count": null,
   "metadata": {},
   "outputs": [],
   "source": [
    "# Plot loss over time\n",
    "sns.lineplot(x=range(len(losses)), y=losses)"
   ]
  },
  {
   "cell_type": "code",
   "execution_count": null,
   "metadata": {},
   "outputs": [],
   "source": [
    "eval_set = MnistDataset(\"test.parquet\")\n",
    "\n",
    "model.eval()\n",
    "\n",
    "correct = 0\n",
    "total = 0\n",
    "\n",
    "\n",
    "for i, data in enumerate(eval_set):\n",
    "    output = model(torch.tensor(data[0]))\n",
    "    total += 1\n",
    "    if torch.argmax(output) == torch.argmax(data[1]):\n",
    "        correct += 1\n",
    "\n",
    "error_rate = 1 - correct / total\n",
    "print(f\"Error rate in percent: {error_rate * 100}%\")"
   ]
  }
 ],
 "metadata": {
  "kernelspec": {
   "display_name": "segmentation",
   "language": "python",
   "name": "python3"
  },
  "language_info": {
   "codemirror_mode": {
    "name": "ipython",
    "version": 3
   },
   "file_extension": ".py",
   "mimetype": "text/x-python",
   "name": "python",
   "nbconvert_exporter": "python",
   "pygments_lexer": "ipython3",
   "version": "3.10.12"
  },
  "orig_nbformat": 4
 },
 "nbformat": 4,
 "nbformat_minor": 2
}
