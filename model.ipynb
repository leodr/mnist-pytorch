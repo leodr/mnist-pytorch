{
 "cells": [
  {
   "cell_type": "code",
   "execution_count": 1,
   "metadata": {},
   "outputs": [],
   "source": [
    "import pandas as pd\n",
    "import numpy as np\n",
    "import torch\n",
    "import torch.nn as nn\n",
    "from torch.utils.data import Dataset, DataLoader\n",
    "import seaborn as sns\n",
    "from PIL import Image\n",
    "from io import BytesIO"
   ]
  },
  {
   "cell_type": "code",
   "execution_count": 41,
   "metadata": {},
   "outputs": [],
   "source": [
    "torch.set_default_device(\"cuda\")"
   ]
  },
  {
   "cell_type": "code",
   "execution_count": 42,
   "metadata": {},
   "outputs": [],
   "source": [
    "class MnistDataset(Dataset):\n",
    "    def __init__(self, file_path):\n",
    "        df = pd.read_parquet(file_path)\n",
    "        self.length = len(df)\n",
    "\n",
    "        self.images = torch.zeros((self.length, 28 * 28), dtype=torch.float32)\n",
    "        self.labels = torch.zeros((self.length, 10), dtype=torch.float32)\n",
    "\n",
    "        for i, entry in df.iterrows():\n",
    "            with Image.open(BytesIO(entry[\"image.bytes\"])) as img:\n",
    "                img_gray = img.convert(\"L\")\n",
    "                pixel_array = np.array(img_gray)\n",
    "                flattened_array = pixel_array.flatten()\n",
    "                normalized_array = flattened_array / 255.0\n",
    "                self.images[i, :] = torch.tensor(normalized_array, dtype=torch.float32)\n",
    "\n",
    "            self.labels[i, entry[\"label\"]] = 1.0\n",
    "\n",
    "    def __len__(self):\n",
    "        return self.length\n",
    "\n",
    "    def __getitem__(self, index):\n",
    "        return self.images[index], self.labels[index]\n",
    "\n",
    "\n",
    "train_set = MnistDataset(\"train.parquet\")\n",
    "test_set = MnistDataset(\"test.parquet\")\n",
    "\n",
    "BATCH_SIZE = 32\n",
    "dataloader = DataLoader(dataset=train_set, batch_size=BATCH_SIZE)"
   ]
  },
  {
   "cell_type": "code",
   "execution_count": 43,
   "metadata": {},
   "outputs": [],
   "source": [
    "class MultiLayerNN(nn.Module):\n",
    "    def __init__(self, input_size, hidden_layer_count, hidden_size, output_size):\n",
    "        super(MultiLayerNN, self).__init__()\n",
    "\n",
    "        if hidden_layer_count == 0:\n",
    "            self.input_layer = nn.Linear(input_size, output_size)\n",
    "            self.layers = []\n",
    "        else:\n",
    "            self.input_layer = nn.Linear(input_size, hidden_size)\n",
    "            self.layers = []\n",
    "            for i in range(hidden_layer_count):\n",
    "                self.layers.append(\n",
    "                    nn.Linear(\n",
    "                        hidden_size,\n",
    "                        output_size if i == hidden_layer_count - 1 else hidden_size,\n",
    "                    )\n",
    "                )\n",
    "\n",
    "    def forward(self, x):\n",
    "        interm = self.input_layer(x)\n",
    "\n",
    "        for i, layer in enumerate(self.layers):\n",
    "            new_pass = layer(interm)\n",
    "\n",
    "            if i < len(self.layers) - 1:\n",
    "                interm = nn.functional.relu(new_pass)\n",
    "            else:\n",
    "                interm = new_pass\n",
    "\n",
    "        return interm"
   ]
  },
  {
   "cell_type": "code",
   "execution_count": 44,
   "metadata": {},
   "outputs": [
    {
     "data": {
      "text/plain": [
       "MultiLayerNN(\n",
       "  (input_layer): Linear(in_features=784, out_features=30, bias=True)\n",
       ")"
      ]
     },
     "execution_count": 44,
     "metadata": {},
     "output_type": "execute_result"
    }
   ],
   "source": [
    "INPUT_DIMENSION = 28 * 28\n",
    "OUTPUT_DIMENSION = 10\n",
    "\n",
    "HIDDEN_LAYER_COUNT = 2\n",
    "HIDDEN_LAYER_SIZE = 30\n",
    "\n",
    "model = MultiLayerNN(\n",
    "    INPUT_DIMENSION, HIDDEN_LAYER_COUNT, HIDDEN_LAYER_SIZE, OUTPUT_DIMENSION\n",
    ").to(\"cuda\")\n",
    "model.train()"
   ]
  },
  {
   "cell_type": "code",
   "execution_count": 45,
   "metadata": {},
   "outputs": [],
   "source": [
    "loss_fun = nn.MSELoss()"
   ]
  },
  {
   "cell_type": "code",
   "execution_count": 46,
   "metadata": {},
   "outputs": [],
   "source": [
    "LEARNING_RATE = 0.01\n",
    "\n",
    "optimizer = torch.optim.SGD(model.parameters(), lr=LEARNING_RATE)"
   ]
  },
  {
   "cell_type": "code",
   "execution_count": 47,
   "metadata": {},
   "outputs": [],
   "source": [
    "NUM_EPOCHS = 500\n",
    "\n",
    "losses = torch.zeros(NUM_EPOCHS)\n",
    "\n",
    "for epoch in range(NUM_EPOCHS):\n",
    "    for i, data in enumerate(dataloader):\n",
    "        inputs, labels = data\n",
    "        inputs = inputs.float().to(\"cuda\")\n",
    "        labels = labels.float().to(\"cuda\")\n",
    "\n",
    "        optimizer.zero_grad()\n",
    "        pred = model(inputs)\n",
    "\n",
    "        # compute loss\n",
    "        loss = loss_fun(pred, labels)\n",
    "\n",
    "        # backprop\n",
    "        loss.backward()\n",
    "\n",
    "        # update weights\n",
    "        optimizer.step()\n",
    "\n",
    "    losses[epoch] = loss.item()"
   ]
  },
  {
   "cell_type": "code",
   "execution_count": 48,
   "metadata": {},
   "outputs": [
    {
     "data": {
      "text/plain": [
       "<Axes: >"
      ]
     },
     "execution_count": 48,
     "metadata": {},
     "output_type": "execute_result"
    },
    {
     "data": {
      "image/png": "[encoded data removed]",
      "text/plain": [
       "<Figure size 640x480 with 1 Axes>"
      ]
     },
     "metadata": {},
     "output_type": "display_data"
    }
   ],
   "source": [
    "# Plot loss over time\n",
    "sns.lineplot(x=range(len(losses)), y=losses.cpu())"
   ]
  },
  {
   "cell_type": "code",
   "execution_count": 49,
   "metadata": {},
   "outputs": [
    {
     "name": "stderr",
     "output_type": "stream",
     "text": [
      "c:\\Users\\leodr\\anaconda3\\envs\\pytorch\\lib\\site-packages\\torch\\utils\\_device.py:62: UserWarning: To copy construct from a tensor, it is recommended to use sourceTensor.clone().detach() or sourceTensor.clone().detach().requires_grad_(True), rather than torch.tensor(sourceTensor).\n",
      "  return func(*args, **kwargs)\n"
     ]
    },
    {
     "name": "stdout",
     "output_type": "stream",
     "text": [
      "Error rate in percent: 10.229999999999995%\n"
     ]
    }
   ],
   "source": [
    "model.eval()\n",
    "\n",
    "correct = 0\n",
    "total = 0\n",
    "\n",
    "for i, data in enumerate(test_set):\n",
    "    output = model(torch.tensor(data[0]))\n",
    "    total += 1\n",
    "    if torch.argmax(output) == torch.argmax(data[1]):\n",
    "        correct += 1\n",
    "\n",
    "error_rate = 1 - correct / total\n",
    "print(f\"Error rate in percent: {error_rate * 100}%\")"
   ]
  }
 ],
 "metadata": {
  "kernelspec": {
   "display_name": "segmentation",
   "language": "python",
   "name": "python3"
  },
  "language_info": {
   "codemirror_mode": {
    "name": "ipython",
    "version": 3
   },
   "file_extension": ".py",
   "mimetype": "text/x-python",
   "name": "python",
   "nbconvert_exporter": "python",
   "pygments_lexer": "ipython3",
   "version": "3.10.12"
  },
  "orig_nbformat": 4
 },
 "nbformat": 4,
 "nbformat_minor": 2
}
